{
 "cells": [
  {
   "cell_type": "code",
   "metadata": {
    "ExecuteTime": {
     "end_time": "2025-02-02T17:22:01.063782Z",
     "start_time": "2025-02-02T17:22:01.062082Z"
    }
   },
   "source": [
    "import matplotlib.pyplot as plt\n",
    "import numpy as np"
   ],
   "outputs": [],
   "execution_count": 8
  },
  {
   "cell_type": "code",
   "metadata": {
    "ExecuteTime": {
     "end_time": "2025-02-02T17:22:03.219421Z",
     "start_time": "2025-02-02T17:22:03.208504Z"
    }
   },
   "source": [
    "nums_1d = np.ones((3), dtype=np.int8)\n",
    "nums_1d"
   ],
   "outputs": [
    {
     "data": {
      "text/plain": [
       "array([1, 1, 1], dtype=int8)"
      ]
     },
     "execution_count": 9,
     "metadata": {},
     "output_type": "execute_result"
    }
   ],
   "execution_count": 9
  },
  {
   "cell_type": "code",
   "metadata": {
    "ExecuteTime": {
     "end_time": "2025-02-02T17:22:05.288098Z",
     "start_time": "2025-02-02T17:22:05.285129Z"
    }
   },
   "source": "nums_2d = np.ones((3, 4), dtype=np.int8)",
   "outputs": [
    {
     "data": {
      "text/plain": [
       "array([[1, 1, 1, 1],\n",
       "       [1, 1, 1, 1],\n",
       "       [1, 1, 1, 1]], dtype=int8)"
      ]
     },
     "execution_count": 10,
     "metadata": {},
     "output_type": "execute_result"
    }
   ],
   "execution_count": 10
  },
  {
   "metadata": {
    "ExecuteTime": {
     "end_time": "2025-02-02T17:22:32.401633Z",
     "start_time": "2025-02-02T17:22:32.392951Z"
    }
   },
   "cell_type": "code",
   "source": "nums_2d",
   "outputs": [
    {
     "data": {
      "text/plain": [
       "array([[1, 1, 1, 1],\n",
       "       [1, 1, 1, 1],\n",
       "       [1, 1, 1, 1]], dtype=int8)"
      ]
     },
     "execution_count": 11,
     "metadata": {},
     "output_type": "execute_result"
    }
   ],
   "execution_count": 11
  },
  {
   "cell_type": "code",
   "metadata": {
    "ExecuteTime": {
     "end_time": "2025-02-02T17:23:28.225950Z",
     "start_time": "2025-02-02T17:23:28.216530Z"
    }
   },
   "source": [
    "nums_3d = np.ones((2, 3, 4), dtype=np.int8)\n",
    "nums_3d"
   ],
   "outputs": [
    {
     "data": {
      "text/plain": [
       "array([[[1, 1, 1, 1],\n",
       "        [1, 1, 1, 1],\n",
       "        [1, 1, 1, 1]],\n",
       "\n",
       "       [[1, 1, 1, 1],\n",
       "        [1, 1, 1, 1],\n",
       "        [1, 1, 1, 1]]], dtype=int8)"
      ]
     },
     "execution_count": 12,
     "metadata": {},
     "output_type": "execute_result"
    }
   ],
   "execution_count": 12
  },
  {
   "cell_type": "code",
   "metadata": {
    "ExecuteTime": {
     "end_time": "2025-02-02T17:24:22.184351Z",
     "start_time": "2025-02-02T17:24:22.179803Z"
    }
   },
   "source": [
    "array_nums = np.array([3, 4])\n",
    "array_nums"
   ],
   "outputs": [
    {
     "data": {
      "text/plain": [
       "array([3, 4])"
      ]
     },
     "execution_count": 14,
     "metadata": {},
     "output_type": "execute_result"
    }
   ],
   "execution_count": 14
  },
  {
   "cell_type": "code",
   "metadata": {
    "ExecuteTime": {
     "end_time": "2025-02-02T17:24:30.352490Z",
     "start_time": "2025-02-02T17:24:30.348039Z"
    }
   },
   "source": [
    "array_nums * 2"
   ],
   "outputs": [
    {
     "data": {
      "text/plain": [
       "array([6, 8])"
      ]
     },
     "execution_count": 15,
     "metadata": {},
     "output_type": "execute_result"
    }
   ],
   "execution_count": 15
  },
  {
   "cell_type": "code",
   "metadata": {
    "ExecuteTime": {
     "end_time": "2025-02-02T17:24:58.424947Z",
     "start_time": "2025-02-02T17:24:58.412829Z"
    }
   },
   "source": [
    "array_nums_more = np.array([10, 20])"
   ],
   "outputs": [],
   "execution_count": 16
  },
  {
   "cell_type": "code",
   "metadata": {
    "ExecuteTime": {
     "end_time": "2025-02-02T17:25:03.150278Z",
     "start_time": "2025-02-02T17:25:03.145462Z"
    }
   },
   "source": [
    "array_nums * array_nums_more"
   ],
   "outputs": [
    {
     "data": {
      "text/plain": [
       "array([30, 80])"
      ]
     },
     "execution_count": 17,
     "metadata": {},
     "output_type": "execute_result"
    }
   ],
   "execution_count": 17
  },
  {
   "cell_type": "code",
   "metadata": {
    "ExecuteTime": {
     "end_time": "2025-02-02T17:25:07.668095Z",
     "start_time": "2025-02-02T17:25:07.665023Z"
    }
   },
   "source": [
    "array_nums + array_nums_more"
   ],
   "outputs": [
    {
     "data": {
      "text/plain": [
       "array([13, 24])"
      ]
     },
     "execution_count": 18,
     "metadata": {},
     "output_type": "execute_result"
    }
   ],
   "execution_count": 18
  },
  {
   "cell_type": "code",
   "metadata": {
    "ExecuteTime": {
     "end_time": "2025-02-02T17:25:39.819583Z",
     "start_time": "2025-02-02T17:25:39.813677Z"
    }
   },
   "source": [
    "array_nums - array_nums_more"
   ],
   "outputs": [
    {
     "data": {
      "text/plain": [
       "array([ -7, -16])"
      ]
     },
     "execution_count": 19,
     "metadata": {},
     "output_type": "execute_result"
    }
   ],
   "execution_count": 19
  },
  {
   "cell_type": "code",
   "metadata": {
    "ExecuteTime": {
     "end_time": "2025-02-02T17:25:46.395293Z",
     "start_time": "2025-02-02T17:25:46.391774Z"
    }
   },
   "source": [
    "array_nums / array_nums_more"
   ],
   "outputs": [
    {
     "data": {
      "text/plain": [
       "array([0.3, 0.2])"
      ]
     },
     "execution_count": 20,
     "metadata": {},
     "output_type": "execute_result"
    }
   ],
   "execution_count": 20
  },
  {
   "cell_type": "code",
   "metadata": {
    "ExecuteTime": {
     "end_time": "2025-02-02T17:25:48.826139Z",
     "start_time": "2025-02-02T17:25:48.823300Z"
    }
   },
   "source": [
    "np.ndarray((2, 4), np.int8)  # garbage data"
   ],
   "outputs": [
    {
     "data": {
      "text/plain": [
       "array([[10,  0,  0,  0],\n",
       "       [ 0,  0,  0,  0]], dtype=int8)"
      ]
     },
     "execution_count": 21,
     "metadata": {},
     "output_type": "execute_result"
    }
   ],
   "execution_count": 21
  },
  {
   "cell_type": "code",
   "metadata": {
    "ExecuteTime": {
     "end_time": "2025-02-02T17:25:57.000019Z",
     "start_time": "2025-02-02T17:25:56.982319Z"
    }
   },
   "source": [
    "from numpy import random\n",
    "\n",
    "rands = np.random.randn(2, 4) * 100  # random"
   ],
   "outputs": [],
   "execution_count": 22
  },
  {
   "cell_type": "code",
   "metadata": {
    "ExecuteTime": {
     "end_time": "2025-02-02T17:26:21.714508Z",
     "start_time": "2025-02-02T17:26:21.709666Z"
    }
   },
   "source": [
    "rands.astype(\"int8\")"
   ],
   "outputs": [
    {
     "data": {
      "text/plain": [
       "array([[110, -59,  97, -90],\n",
       "       [103, -65, -57, -75]], dtype=int8)"
      ]
     },
     "execution_count": 26,
     "metadata": {},
     "output_type": "execute_result"
    }
   ],
   "execution_count": 26
  },
  {
   "cell_type": "code",
   "metadata": {
    "ExecuteTime": {
     "end_time": "2025-02-02T17:26:09.335681Z",
     "start_time": "2025-02-02T17:26:09.333397Z"
    }
   },
   "source": "np.save(\"rands.npy\", rands)",
   "outputs": [],
   "execution_count": 25
  },
  {
   "cell_type": "code",
   "metadata": {
    "ExecuteTime": {
     "end_time": "2025-02-02T17:26:02.580457Z",
     "start_time": "2025-02-02T17:26:02.576612Z"
    }
   },
   "source": [
    "for i in rands:\n",
    "    print(i)"
   ],
   "outputs": [
    {
     "name": "stdout",
     "output_type": "stream",
     "text": [
      "[-146.65478024  -59.20894875   97.72059264  -90.56621166]\n",
      "[103.63491161 -65.83934091 -57.00989463 -75.02209685]\n"
     ]
    }
   ],
   "execution_count": 24
  },
  {
   "cell_type": "code",
   "metadata": {},
   "source": [],
   "outputs": [],
   "execution_count": null
  }
 ],
 "metadata": {
  "kernelspec": {
   "display_name": "Python 3",
   "language": "python",
   "name": "python3"
  },
  "language_info": {
   "codemirror_mode": {
    "name": "ipython",
    "version": 3
   },
   "file_extension": ".py",
   "mimetype": "text/x-python",
   "name": "python",
   "nbconvert_exporter": "python",
   "pygments_lexer": "ipython3",
   "version": "3.11.4"
  }
 },
 "nbformat": 4,
 "nbformat_minor": 4
}
