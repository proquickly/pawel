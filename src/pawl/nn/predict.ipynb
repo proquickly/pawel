{
 "cells": [
  {
   "metadata": {},
   "cell_type": "markdown",
   "source": [
    "True if:\n",
    "\n",
    " or - at least one True\n",
    "\n",
    " and - both True\n",
    "\n",
    " xor - different"
   ],
   "id": "42a4e766f1fdd421"
  },
  {
   "metadata": {
    "ExecuteTime": {
     "end_time": "2025-02-02T17:35:07.731615Z",
     "start_time": "2025-02-02T17:35:07.594838Z"
    }
   },
   "cell_type": "code",
   "outputs": [],
   "execution_count": 1,
   "source": [
    "# Wrapping the vectors in NumPy arrays\n",
    "import numpy as np"
   ],
   "id": "fdfb9edffd1c0608"
  },
  {
   "metadata": {
    "ExecuteTime": {
     "end_time": "2025-02-02T17:35:08.758492Z",
     "start_time": "2025-02-02T17:35:08.756141Z"
    }
   },
   "cell_type": "code",
   "source": [
    "input_vector = np.array([1.66, 1.56])\n",
    "weights_1 = np.array([1.45, -0.66])\n",
    "bias = np.array([0.0])"
   ],
   "id": "c1176f57ec9e2538",
   "outputs": [],
   "execution_count": 2
  },
  {
   "metadata": {
    "ExecuteTime": {
     "end_time": "2025-02-02T17:35:12.414782Z",
     "start_time": "2025-02-02T17:35:12.412283Z"
    }
   },
   "cell_type": "code",
   "source": [
    "def sigmoid(x):\n",
    "    return 1 / (1 + np.exp(-x))\n",
    "\n",
    "def make_prediction(input_vector, weights, bias):\n",
    "    layer_1 = np.dot(input_vector, weights) + bias\n",
    "    layer_2 = sigmoid(layer_1)\n",
    "    return layer_2"
   ],
   "id": "622e91edbf2764f5",
   "outputs": [],
   "execution_count": 3
  },
  {
   "metadata": {
    "ExecuteTime": {
     "end_time": "2025-02-02T17:35:15.651195Z",
     "start_time": "2025-02-02T17:35:15.647105Z"
    }
   },
   "cell_type": "code",
   "source": [
    "prediction = make_prediction(input_vector, weights_1, bias)\n",
    "print(f\"The prediction result is: {prediction}\")"
   ],
   "id": "58272eec69ac451d",
   "outputs": [
    {
     "name": "stdout",
     "output_type": "stream",
     "text": [
      "The prediction result is: [0.7985731]\n"
     ]
    }
   ],
   "execution_count": 4
  },
  {
   "metadata": {
    "ExecuteTime": {
     "end_time": "2025-02-02T17:35:28.453107Z",
     "start_time": "2025-02-02T17:35:28.450608Z"
    }
   },
   "cell_type": "code",
   "source": [
    "# Changing the value of input_vector\n",
    "input_vector = np.array([2, 1.5])\n",
    "prediction = make_prediction(input_vector, weights_1, bias)\n",
    "\n",
    "print(f\"The prediction result is: {prediction}\")"
   ],
   "id": "1b56d04857491a4e",
   "outputs": [
    {
     "name": "stdout",
     "output_type": "stream",
     "text": [
      "The prediction result is: [0.87101915]\n"
     ]
    }
   ],
   "execution_count": 6
  },
  {
   "metadata": {
    "collapsed": true,
    "ExecuteTime": {
     "end_time": "2025-02-02T17:35:34.967574Z",
     "start_time": "2025-02-02T17:35:34.964755Z"
    }
   },
   "cell_type": "code",
   "source": [
    "target = 0\n",
    "mse = np.square(prediction - target)\n",
    "print(f\"Prediction: {prediction}; Error: {mse}\")"
   ],
   "id": "initial_id",
   "outputs": [
    {
     "name": "stdout",
     "output_type": "stream",
     "text": [
      "Prediction: [0.87101915]; Error: [0.75867436]\n"
     ]
    }
   ],
   "execution_count": 7
  }
 ],
 "metadata": {
  "kernelspec": {
   "display_name": "Python 3",
   "language": "python",
   "name": "python3"
  },
  "language_info": {
   "codemirror_mode": {
    "name": "ipython",
    "version": 2
   },
   "file_extension": ".py",
   "mimetype": "text/x-python",
   "name": "python",
   "nbconvert_exporter": "python",
   "pygments_lexer": "ipython2",
   "version": "2.7.6"
  }
 },
 "nbformat": 4,
 "nbformat_minor": 5
}
