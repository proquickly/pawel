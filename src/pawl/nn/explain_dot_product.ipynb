{
 "cells": [
  {
   "metadata": {},
   "cell_type": "markdown",
   "source": [
    "A vector is an object that has both a magnitude and a direction.\n",
    "\n",
    "[Vector](https://www.mathsisfun.com/algebra/vectors.html)\n",
    "\n",
    "The **dot product** (also known as the scalar product) is a\n",
    "mathematical operation that takes two vectors of the same\n",
    "length and outputs a single scalar. It essentially evaluates\n",
    "how much one vector is aligned with another.\n",
    "The operation has applications in geometry, physics, and\n",
    "machine learning.\n",
    "\n",
    "pip install notebook\n",
    "pip install numpy\n",
    "jupyter notebook"
   ],
   "id": "c097b00c7e01d50c"
  },
  {
   "metadata": {},
   "cell_type": "markdown",
   "source": "This is the code for computing the dot product of input_vector and weights_1",
   "id": "3f9e84049931bac2"
  },
  {
   "metadata": {
    "ExecuteTime": {
     "end_time": "2025-02-02T17:11:06.323532Z",
     "start_time": "2025-02-02T17:11:06.319476Z"
    }
   },
   "cell_type": "code",
   "source": [
    "input_vector = [1.72, 1.23]\n",
    "weights_1 = [1.26, 0]\n",
    "weights_2 = [2.17, 0.32]\n",
    "\n",
    "# Computing the dot product of input_vector and weights_1\n",
    "first_indexes_mult = input_vector[0] * weights_1[0]\n",
    "second_indexes_mult = input_vector[1] * weights_1[1]\n",
    "dot_product_1 = first_indexes_mult + second_indexes_mult\n",
    "\n",
    "print(f\"The dot product is: {dot_product_1}\")"
   ],
   "id": "5565676e47946fe9",
   "outputs": [
    {
     "name": "stdout",
     "output_type": "stream",
     "text": [
      "The dot product is: 2.1672\n"
     ]
    }
   ],
   "execution_count": 1
  },
  {
   "metadata": {},
   "cell_type": "markdown",
   "source": "Use np.dot instead",
   "id": "c7ef0a2b118c534f"
  },
  {
   "metadata": {
    "collapsed": true,
    "ExecuteTime": {
     "end_time": "2025-02-02T17:27:42.099277Z",
     "start_time": "2025-02-02T17:27:41.910863Z"
    }
   },
   "cell_type": "code",
   "source": [
    "import numpy as np\n",
    "\n",
    "dot_product_1 = np.dot(input_vector, weights_1)\n",
    "print(f\"The dot product is: {dot_product_1}\")\n",
    "\n",
    "dot_product_2 = np.dot(input_vector, weights_2)\n",
    "print(f\"The dot product is: {dot_product_2}\")"
   ],
   "id": "initial_id",
   "outputs": [
    {
     "name": "stdout",
     "output_type": "stream",
     "text": [
      "The dot product is: 2.1672\n",
      "The dot product is: 4.1259999999999994\n"
     ]
    }
   ],
   "execution_count": 2
  },
  {
   "metadata": {},
   "cell_type": "markdown",
   "source": " you can view the dot product as a loose measurement of similarity between vectors",
   "id": "c287772135979a3a"
  },
  {
   "metadata": {},
   "cell_type": "markdown",
   "source": "[more details](https://realpython.com/python-ai-neural-network/)",
   "id": "d02d428df60f7422"
  },
  {
   "metadata": {
    "ExecuteTime": {
     "end_time": "2025-02-02T17:28:34.536160Z",
     "start_time": "2025-02-02T17:28:34.525876Z"
    }
   },
   "cell_type": "code",
   "source": [
    "1.1 + 1.3\n",
    "# floating point precision error\n"
   ],
   "id": "cac204e1109b3a86",
   "outputs": [
    {
     "data": {
      "text/plain": [
       "2.4000000000000004"
      ]
     },
     "execution_count": 3,
     "metadata": {},
     "output_type": "execute_result"
    }
   ],
   "execution_count": 3
  }
 ],
 "metadata": {
  "kernelspec": {
   "display_name": "Python 3",
   "language": "python",
   "name": "python3"
  },
  "language_info": {
   "codemirror_mode": {
    "name": "ipython",
    "version": 2
   },
   "file_extension": ".py",
   "mimetype": "text/x-python",
   "name": "python",
   "nbconvert_exporter": "python",
   "pygments_lexer": "ipython2",
   "version": "2.7.6"
  }
 },
 "nbformat": 4,
 "nbformat_minor": 5
}
